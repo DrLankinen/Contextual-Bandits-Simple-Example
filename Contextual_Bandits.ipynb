{
 "cells": [
  {
   "cell_type": "code",
   "execution_count": 1,
   "metadata": {},
   "outputs": [],
   "source": [
    "import numpy as np\n",
    "import random\n",
    "import matplotlib.pyplot as plt"
   ]
  },
  {
   "cell_type": "code",
   "execution_count": 2,
   "metadata": {},
   "outputs": [],
   "source": [
    "class SlotMachine:\n",
    "    def __init__(self, num_of_actions, color):\n",
    "        standard_deviations = np.ones((num_of_actions,1))*0.01\n",
    "        means = np.random.rand(num_of_actions,1)\n",
    "        self.action = np.concatenate((standard_deviations,means),axis=1)\n",
    "        self.color = color\n",
    "        self.Q = np.zeros((num_of_actions,1))\n",
    "        self.N = np.zeros((num_of_actions,1))\n",
    "        print(\"Machine:\",color)\n",
    "        print(\"num_of_actions:\",num_of_actions)\n",
    "        print(\"expected reward:\",round(np.max(means),2))\n",
    "        print(\"--------------\")\n",
    "        \n",
    "    def pull(self, action_num):\n",
    "        # mean and standard deviation\n",
    "        standard_deviation = self.action[action_num][0]\n",
    "        mean = self.action[action_num][1]\n",
    "        return np.random.normal(mean,standard_deviation)"
   ]
  },
  {
   "cell_type": "code",
   "execution_count": 3,
   "metadata": {},
   "outputs": [],
   "source": [
    "def choose_action(Q,epsilon):\n",
    "    if random.random() < epsilon:\n",
    "        return random.randint(0,Q.shape[0]-1)\n",
    "    else:\n",
    "        return np.argmax(Q)"
   ]
  },
  {
   "cell_type": "code",
   "execution_count": 4,
   "metadata": {},
   "outputs": [],
   "source": [
    "NUM_OF_ACTIONS = 10"
   ]
  },
  {
   "cell_type": "code",
   "execution_count": 5,
   "metadata": {
    "scrolled": true
   },
   "outputs": [
    {
     "name": "stdout",
     "output_type": "stream",
     "text": [
      "Machine: blue\n",
      "num_of_actions: 10\n",
      "expected reward: 0.87\n",
      "--------------\n",
      "Machine: red\n",
      "num_of_actions: 10\n",
      "expected reward: 0.98\n",
      "--------------\n",
      "Machine: green\n",
      "num_of_actions: 10\n",
      "expected reward: 0.99\n",
      "--------------\n",
      "Machine: yellow\n",
      "num_of_actions: 10\n",
      "expected reward: 0.78\n",
      "--------------\n"
     ]
    }
   ],
   "source": [
    "sm1 = SlotMachine(NUM_OF_ACTIONS,\"blue\")\n",
    "sm2 = SlotMachine(NUM_OF_ACTIONS,\"red\")\n",
    "sm3 = SlotMachine(NUM_OF_ACTIONS,\"green\")\n",
    "sm4 = SlotMachine(NUM_OF_ACTIONS,\"yellow\")\n",
    "machines = [sm1,sm2,sm3,sm4]"
   ]
  },
  {
   "cell_type": "code",
   "execution_count": 6,
   "metadata": {},
   "outputs": [],
   "source": [
    "machine_to_index = {}\n",
    "n = 0\n",
    "for machine in machines:\n",
    "    machine_to_index[machine.color] = n\n",
    "    n += 1"
   ]
  },
  {
   "cell_type": "code",
   "execution_count": 7,
   "metadata": {},
   "outputs": [
    {
     "data": {
      "text/plain": [
       "{'blue': 0, 'green': 2, 'red': 1, 'yellow': 3}"
      ]
     },
     "execution_count": 7,
     "metadata": {},
     "output_type": "execute_result"
    }
   ],
   "source": [
    "machine_to_index"
   ]
  },
  {
   "cell_type": "code",
   "execution_count": 8,
   "metadata": {},
   "outputs": [],
   "source": [
    "Q = np.zeros((len(machines),NUM_OF_ACTIONS))\n",
    "N = np.zeros((len(machines),NUM_OF_ACTIONS))"
   ]
  },
  {
   "cell_type": "code",
   "execution_count": 9,
   "metadata": {},
   "outputs": [
    {
     "data": {
      "text/plain": [
       "array([[0., 0., 0., 0., 0., 0., 0., 0., 0., 0.],\n",
       "       [0., 0., 0., 0., 0., 0., 0., 0., 0., 0.],\n",
       "       [0., 0., 0., 0., 0., 0., 0., 0., 0., 0.],\n",
       "       [0., 0., 0., 0., 0., 0., 0., 0., 0., 0.]])"
      ]
     },
     "execution_count": 9,
     "metadata": {},
     "output_type": "execute_result"
    }
   ],
   "source": [
    "Q"
   ]
  },
  {
   "cell_type": "code",
   "execution_count": 10,
   "metadata": {},
   "outputs": [],
   "source": [
    "NUM_OF_STEPS = 10000"
   ]
  },
  {
   "cell_type": "code",
   "execution_count": 11,
   "metadata": {},
   "outputs": [],
   "source": [
    "rewards = {}\n",
    "average_rewards = []\n",
    "cumulative_reward = 0\n",
    "for i in range(NUM_OF_STEPS):\n",
    "    random.shuffle(machines)\n",
    "    machine = machines[0]\n",
    "    index = machine_to_index[machine.color]\n",
    "    \n",
    "    action = choose_action(Q[index],0.01)\n",
    "    # Take the action\n",
    "    reward = machine.pull(action)\n",
    "    if machine.color[0] not in rewards: rewards[machine.color[0]] = np.array([[i,reward]])\n",
    "    else: rewards[machine.color[0]] = np.append(rewards[machine.color[0]],[[i,reward]],axis=0)\n",
    "    cumulative_reward += reward\n",
    "    average_rewards.append(cumulative_reward/(len(average_rewards)+1))\n",
    "    \n",
    "    # Update\n",
    "    N[index][action] = N[index][action] + 1\n",
    "    Q[index][action] = Q[index][action] + 1 / N[index][action] * (reward - Q[index][action])"
   ]
  },
  {
   "cell_type": "code",
   "execution_count": 12,
   "metadata": {},
   "outputs": [
    {
     "data": {
      "image/png": "[encoded data removed]",
      "text/plain": [
       "<Figure size 432x288 with 1 Axes>"
      ]
     },
     "metadata": {},
     "output_type": "display_data"
    }
   ],
   "source": [
    "for key in rewards:\n",
    "    plt.scatter(rewards[key][:,0],rewards[key][:,1],color=key,alpha=0.2)\n",
    "plt.show()"
   ]
  },
  {
   "cell_type": "code",
   "execution_count": 13,
   "metadata": {},
   "outputs": [
    {
     "data": {
      "image/png": "[encoded data removed]",
      "text/plain": [
       "<Figure size 432x288 with 1 Axes>"
      ]
     },
     "metadata": {},
     "output_type": "display_data"
    }
   ],
   "source": [
    "plt.scatter(range(NUM_OF_STEPS),average_rewards)\n",
    "plt.show()"
   ]
  }
 ],
 "metadata": {
  "kernelspec": {
   "display_name": "Python 3",
   "language": "python",
   "name": "python3"
  },
  "language_info": {
   "codemirror_mode": {
    "name": "ipython",
    "version": 3
   },
   "file_extension": ".py",
   "mimetype": "text/x-python",
   "name": "python",
   "nbconvert_exporter": "python",
   "pygments_lexer": "ipython3",
   "version": "3.6.7"
  }
 },
 "nbformat": 4,
 "nbformat_minor": 2
}
